{
 "cells": [
  {
   "cell_type": "code",
   "execution_count": null,
   "metadata": {},
   "outputs": [],
   "source": [
    "# Adapted from Mitsuba 3's Official Tutorials:\n",
    "# https://mitsuba.readthedocs.io/en/latest/src/inverse_rendering/shape_optimization.html\n",
    "# https://mitsuba.readthedocs.io/en/stable/src/how_to_guides/mesh_io_and_manipulation.html\n",
    "\n",
    "import drjit as dr\n",
    "import mitsuba as mi\n",
    "import matplotlib.pyplot as plt\n",
    "import os\n",
    "\n",
    "mi.set_variant('llvm_ad_rgb')\n"
   ]
  },
  {
   "cell_type": "code",
   "execution_count": null,
   "metadata": {},
   "outputs": [],
   "source": [
    "# Dependencies:\n",
    "# !pip install cholespy\n",
    "# !pip install gpytoolbox"
   ]
  },
  {
   "cell_type": "code",
   "execution_count": null,
   "metadata": {},
   "outputs": [],
   "source": [
    "mi.xml_to_props(\"banana_updated.xml\")"
   ]
  },
  {
   "cell_type": "code",
   "execution_count": null,
   "metadata": {},
   "outputs": [],
   "source": [
    "from mitsuba import ScalarTransform4f as T\n",
    "\n",
    "active_indices = [0, 1, 2, 3, 4, 5]\n",
    "\n",
    "to_world_list = [\n",
    "    T([\n",
    "        [-0.40831, -0.629649, -0.660927, 3.35112],\n",
    "        [-0.752151, -0.178205, 0.634439, -0.77301],\n",
    "        [-0.517254, 0.756165, -0.400828, -0.591697],\n",
    "        [0, 0, 0, 1]\n",
    "    ]), #2\n",
    "    T([\n",
    "        [0.313648, -0.580312, -0.751573, 4.23076],\n",
    "        [-0.829941, -0.552095, 0.0799364, 1.81866],\n",
    "        [-0.461328, 0.598689, -0.654788, 0.998348],\n",
    "        [0, 0, 0, 1]\n",
    "    ]), #4\n",
    "    T([\n",
    "        [0.999562, -0.0260534, 0.0140109, 0.290532],\n",
    "        [-0.0194337, -0.935423, -0.352996, 3.80493],\n",
    "        [0.0223028, 0.352569, -0.93552, 2.18121],\n",
    "        [0, 0, 0, 1]\n",
    "    ]), #6\n",
    "    T([\n",
    "        [0.7136, 0.377279, 0.590284, -2.54665],\n",
    "        [0.570557, -0.801911, -0.177211, 2.72416],\n",
    "        [0.406497, 0.463248, -0.787503, 1.21879],\n",
    "        [0, 0, 0, 1]\n",
    "    ]), #8\n",
    "    T([\n",
    "        [-0.886821, 0.229873, 0.400883, -1.07143],\n",
    "        [0.397902, -0.0612994, 0.915378, -2.60014],\n",
    "        [0.234995, 0.971288, -0.0371054, -2.38561],\n",
    "        [0, 0, 0, 1]\n",
    "    ]), #11\n",
    "    T([\n",
    "        [-0.994695, -0.00129575, 0.102857, 0.36554],\n",
    "        [0.10286, -0.00344105, 0.99469, -2.86139],\n",
    "        [-0.000934934, 0.999993, 0.00355608, -2.3446],\n",
    "        [0, 0, 0, 1]\n",
    "    ])  #13\n",
    "]\n",
    "\n",
    "sensor_count = len(active_indices)\n",
    "sensors = []\n",
    "\n",
    "for i in range(len(to_world_list)):\n",
    "    sensors.append(mi.load_dict({\n",
    "        'type': 'perspective',\n",
    "        'fov_axis' : 'x',\n",
    "        'fov': 64.022150,\n",
    "        'to_world': to_world_list[i],\n",
    "        'film': {\n",
    "            'type': 'hdrfilm',\n",
    "            'width': 600, 'height': 400,\n",
    "            'filter': {'type': 'gaussian'},\n",
    "            'sample_border': True\n",
    "        },\n",
    "        'sampler': {\n",
    "            'type': 'independent',\n",
    "            'sample_count': 128\n",
    "        }\n",
    "    }))\n"
   ]
  },
  {
   "cell_type": "code",
   "execution_count": null,
   "metadata": {},
   "outputs": [],
   "source": [
    "# If exporting PLY from Blender:\n",
    "# Format        : Check \"ASCII\" (for later edits)\n",
    "# Limit to      : Check \"Selected Only\"\n",
    "# Scale         : 1.000\n",
    "# Forward Axis  : -Z\n",
    "# Up Axis       : Y\n",
    "# Objects       : Check Apply Modifiers (if needed)\n",
    "# Geometry      : Dont Check \"UV Coordinates\" (not needed)\n",
    "#                 Don't Check \"Vertex Normals\" (let Mitsuba calculate)\n",
    "# Vertex Colors : Select \"Linear\"\n",
    "#                 Check \"Triangulated Mesh\"\n",
    "# Then, manually edit the PLY file:\n",
    "# 1. In the header:\n",
    "#   change \"uchar color\" to \"float color\" where \"color\" is \"red\"/\"green\"/\"blue\"\n",
    "#   remove the line \"property uchar alpha\"\n",
    "# 2. After the header:\n",
    "#   replace all (0-255, 0-255, 0-255, 0-255) rbga values with (0-1, 0-1, 0-1) rgb values\n",
    "# 3. When loading the PLY file in Mitsuba:\n",
    "#   need 'flip_normals' : True\n",
    "\n",
    "mesh = mi.load_dict({\n",
    "    \"type\": \"ply\",\n",
    "    'filename': \"./meshes/banana_init.ply\",\n",
    "    # 'flip_normals' : True,\n",
    "    \"bsdf\": {\n",
    "        \"type\": \"diffuse\",\n",
    "        'reflectance': {\n",
    "            'type': 'mesh_attribute',\n",
    "            'name': 'vertex_color'\n",
    "        }\n",
    "        # 'reflectance': {\n",
    "        #     'type': 'rgb',\n",
    "        #     'value': [0.2, 0.2, 0.2]\n",
    "        # }\n",
    "    }\n",
    "})\n",
    "\n",
    "attribute_size = mesh.vertex_count() * 3\n",
    "mesh.add_attribute(\n",
    "    \"vertex_color\", 3, [0.20] * attribute_size\n",
    ")\n",
    "\n",
    "mesh_params = mi.traverse(mesh)\n",
    "print(mesh_params)\n",
    "# mesh_params['vertex_normals'] *= -1\n",
    "# mesh_params.update()\n",
    "\n",
    "scene_dict = {\n",
    "    'type': 'scene',\n",
    "    'integrator': {\n",
    "        'type': 'direct_projective',\n",
    "        'sppi': 0, \n",
    "    },\n",
    "    'emitter': {\n",
    "        'type': 'constant',\n",
    "        'radiance': 1.0,\n",
    "    },\n",
    "    'shape': mesh\n",
    "}\n",
    "\n",
    "scene = mi.load_dict(scene_dict)\n",
    "params = mi.traverse(scene)\n",
    "print(params)\n",
    "print(list(params[\"shape.vertex_color\"])[:9])\n",
    "print(list(params[\"shape.vertex_normals\"])[:9])\n"
   ]
  },
  {
   "cell_type": "code",
   "execution_count": null,
   "metadata": {},
   "outputs": [],
   "source": [
    "def plot_images(images):\n",
    "    images_count = len(images)\n",
    "    fig, axs = plt.subplots(1, images_count, figsize=(images_count*5, 5))\n",
    "    if images_count == 1:\n",
    "        axs.imshow(mi.util.convert_to_bitmap(images[i]))\n",
    "        axs.axis('off')\n",
    "    else:\n",
    "        for i in range(images_count):\n",
    "            axs[i].imshow(mi.util.convert_to_bitmap(images[i]))\n",
    "            axs[i].axis('off')\n",
    "\n",
    "def plot_images_each(images):\n",
    "    for image in images:\n",
    "        plt.imshow(mi.util.convert_to_bitmap(image))\n",
    "        plt.axis(\"off\")\n",
    "        plt.show()\n"
   ]
  },
  {
   "cell_type": "code",
   "execution_count": null,
   "metadata": {},
   "outputs": [],
   "source": [
    "ref_images_all = []\n",
    "ref_indices = [2, 4, 6, 8, 11, 13]\n",
    "for i in ref_indices:\n",
    "    ref_image = mi.Bitmap(f\"./refs/banana/banana{i}_600x400.png\")\n",
    "    ref_image = ref_image.convert(\n",
    "        pixel_format=mi.Bitmap.PixelFormat.RGB,\n",
    "        component_format=mi.Struct.Type.Float32,\n",
    "        srgb_gamma=False,\n",
    "    )\n",
    "    ref_images_all.append(ref_image)\n",
    "\n",
    "ref_images = []\n",
    "for i in active_indices:\n",
    "    ref_images.append(ref_images_all[i])\n",
    "\n",
    "plot_images(ref_images)\n",
    "# plot_images_each(ref_images)\n"
   ]
  },
  {
   "cell_type": "code",
   "execution_count": null,
   "metadata": {},
   "outputs": [],
   "source": [
    "init_images = [mi.render(scene, sensor=sensors[i], spp=128) for i in range(sensor_count)]\n",
    "plot_images(init_images)\n"
   ]
  },
  {
   "cell_type": "code",
   "execution_count": null,
   "metadata": {},
   "outputs": [],
   "source": [
    "plot_images_each(init_images)"
   ]
  },
  {
   "cell_type": "code",
   "execution_count": null,
   "metadata": {},
   "outputs": [],
   "source": [
    "lambda_ = 25\n",
    "ls = mi.ad.LargeSteps(params['shape.vertex_positions'], params['shape.faces'], lambda_)"
   ]
  },
  {
   "cell_type": "code",
   "execution_count": null,
   "metadata": {},
   "outputs": [],
   "source": [
    "lr = 1e-1\n",
    "opt = mi.ad.Adam(lr=lr, uniform=True)"
   ]
  },
  {
   "cell_type": "code",
   "execution_count": null,
   "metadata": {},
   "outputs": [],
   "source": [
    "opt['shape.vertex_positions'] = ls.to_differential(params['shape.vertex_positions'])\n",
    "opt['shape.vertex_color'] = params['shape.vertex_color']"
   ]
  },
  {
   "cell_type": "code",
   "execution_count": null,
   "metadata": {},
   "outputs": [],
   "source": [
    "iterations = 100\n",
    "loss_vec = []\n",
    "for it in range(iterations):\n",
    "    total_loss = mi.Float(0.0)\n",
    "\n",
    "    for sensor_idx in range(sensor_count):\n",
    "        params['shape.vertex_positions'] = ls.from_differential(opt['shape.vertex_positions'])\n",
    "        params['shape.vertex_color'] = opt['shape.vertex_color']\n",
    "        params.update()\n",
    "\n",
    "        img = mi.render(scene, params, sensor=sensors[sensor_idx], seed=it)\n",
    "\n",
    "        # L1 Loss\n",
    "        loss = dr.mean(dr.abs(img - ref_images[sensor_idx]))\n",
    "\n",
    "        dr.backward(loss)\n",
    "        opt.step()\n",
    "        params.update(opt)\n",
    "\n",
    "        total_loss += loss\n",
    "\n",
    "    loss_vec.append(total_loss)\n",
    "    print(f\"Iter: {1+it:03d}; Loss: {total_loss[0]}\")"
   ]
  },
  {
   "cell_type": "code",
   "execution_count": null,
   "metadata": {},
   "outputs": [],
   "source": [
    "plt.plot(loss_vec) # somehow doesn't work if loss_vec.append(total_loss[0])\n",
    "plt.show()\n"
   ]
  },
  {
   "cell_type": "code",
   "execution_count": null,
   "metadata": {},
   "outputs": [],
   "source": [
    "params['shape.vertex_positions'] = ls.from_differential(opt['shape.vertex_positions'])\n",
    "params['shape.vertex_color'] = opt['shape.vertex_color']\n",
    "params.update()\n",
    "\n",
    "print(list(params[\"shape.vertex_normals\"])[:9])\n"
   ]
  },
  {
   "cell_type": "code",
   "execution_count": null,
   "metadata": {},
   "outputs": [],
   "source": [
    "final_images = [mi.render(scene, sensor=sensors[i], spp=128) for i in range(sensor_count)]\n",
    "plot_images(final_images)\n"
   ]
  },
  {
   "cell_type": "code",
   "execution_count": null,
   "metadata": {},
   "outputs": [],
   "source": [
    "plot_images_each(final_images)\n"
   ]
  },
  {
   "cell_type": "code",
   "execution_count": null,
   "metadata": {},
   "outputs": [],
   "source": [
    "mesh.write_ply(f\"./outputs/banana_optimized_lr{str(lr)}_it{str(iterations)}.ply\")\n"
   ]
  }
 ],
 "metadata": {
  "kernelspec": {
   "display_name": "base",
   "language": "python",
   "name": "python3"
  },
  "language_info": {
   "codemirror_mode": {
    "name": "ipython",
    "version": 3
   },
   "file_extension": ".py",
   "mimetype": "text/x-python",
   "name": "python",
   "nbconvert_exporter": "python",
   "pygments_lexer": "ipython3",
   "version": "3.11.4"
  }
 },
 "nbformat": 4,
 "nbformat_minor": 2
}
