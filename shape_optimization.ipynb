{
 "cells": [
  {
   "cell_type": "code",
   "execution_count": null,
   "metadata": {},
   "outputs": [],
   "source": [
    "# Adapted from Mitsuba 3's Official Tutorials:\n",
    "# https://mitsuba.readthedocs.io/en/latest/src/inverse_rendering/shape_optimization.html\n",
    "# https://mitsuba.readthedocs.io/en/stable/src/how_to_guides/mesh_io_and_manipulation.html\n",
    "\n",
    "import drjit as dr\n",
    "import mitsuba as mi\n",
    "import matplotlib.pyplot as plt\n",
    "import os\n",
    "\n",
    "mi.set_variant('llvm_ad_rgb')\n"
   ]
  },
  {
   "cell_type": "code",
   "execution_count": null,
   "metadata": {},
   "outputs": [],
   "source": [
    "# Dependencies:\n",
    "# !pip install cholespy\n",
    "# !pip install gpytoolbox"
   ]
  },
  {
   "cell_type": "code",
   "execution_count": null,
   "metadata": {},
   "outputs": [],
   "source": [
    "from mitsuba import ScalarTransform4f as T\n",
    "\n",
    "active_indices = [1, 3]\n",
    "\n",
    "origins_all = [\n",
    "    [-0.08, 0.02, -1.25],\n",
    "    [-0.1, 0.02, 1.33],\n",
    "    [1.35, 0.01, -0.05],\n",
    "    [-1.35, -0.05, -0.01]\n",
    "]\n",
    "\n",
    "targets_all = [\n",
    "    [-0.08, 0.02, 0],\n",
    "    [-0.1, 0.02, 0],\n",
    "    [0, 0.01, -0.05],\n",
    "    [0, -0.05, -0.01]\n",
    "]\n",
    "\n",
    "origins = []\n",
    "targets = []\n",
    "for i in active_indices:\n",
    "    origins.append(origins_all[i])\n",
    "    targets.append(targets_all[i])\n",
    "\n",
    "sensor_count = len(active_indices)\n",
    "sensors = []\n",
    "\n",
    "for i in range(sensor_count):\n",
    "    sensors.append(mi.load_dict({\n",
    "        'type': 'perspective',\n",
    "        'fov': 45,\n",
    "        'to_world': T().look_at(target=targets[i], origin=origins[i], up=[0, 1, 0]),\n",
    "        'film': {\n",
    "            'type': 'hdrfilm',\n",
    "            'width': 400, 'height': 400,\n",
    "            'filter': {'type': 'gaussian'},\n",
    "            'sample_border': True\n",
    "        },\n",
    "        'sampler': {\n",
    "            'type': 'independent',\n",
    "            'sample_count': 128\n",
    "        }\n",
    "    }))\n"
   ]
  },
  {
   "cell_type": "code",
   "execution_count": null,
   "metadata": {},
   "outputs": [],
   "source": [
    "# If exporting PLY from Blender:\n",
    "# Format        : Check \"ASCII\" (for later edits)\n",
    "# Limit to      : Check \"Selected Only\"\n",
    "# Scale         : 1.000\n",
    "# Forward Axis  : -Z\n",
    "# Up Axis       : Y\n",
    "# Objects       : Check Apply Modifiers (if needed)\n",
    "# Geometry      : Dont Check \"UV Coordinates\" (not needed)\n",
    "#                 Don't Check \"Vertex Normals\" (let Mitsuba calculate)\n",
    "# Vertex Colors : Select \"Linear\"\n",
    "#                 Check \"Triangulated Mesh\"\n",
    "# Then, manually edit the PLY file:\n",
    "# 1. In the header:\n",
    "#   change \"uchar color\" to \"float color\" where \"color\" is \"red\"/\"green\"/\"blue\"\n",
    "#   remove the line \"property uchar alpha\"\n",
    "# 2. After the header:\n",
    "#   replace all (0-255, 0-255, 0-255, 0-255) rbga values with (0-1, 0-1, 0-1) rgb values\n",
    "# 3. When loading the PLY file in Mitsuba:\n",
    "#   need 'flip_normals' : True\n",
    "\n",
    "mesh = mi.load_dict({\n",
    "    \"type\": \"ply\",\n",
    "    'filename': \"./meshes/HandsomeDan_Updated.ply\",\n",
    "    'flip_normals' : True,\n",
    "    \"bsdf\": {\n",
    "        \"type\": \"diffuse\",\n",
    "        'reflectance': {\n",
    "            'type': 'mesh_attribute',\n",
    "            'name': 'vertex_color'\n",
    "        }\n",
    "        # 'reflectance': {\n",
    "        #     'type': 'rgb',\n",
    "        #     'value': [0.2, 0.2, 0.2]\n",
    "        # }\n",
    "    }\n",
    "})\n",
    "\n",
    "mesh_params = mi.traverse(mesh)\n",
    "print(mesh_params)\n",
    "# mesh_params['vertex_normals'] *= -1\n",
    "# mesh_params.update()\n",
    "\n",
    "scene_dict = {\n",
    "    'type': 'scene',\n",
    "    'integrator': {\n",
    "        'type': 'direct_projective',\n",
    "        'sppi': 0, \n",
    "    },\n",
    "    'emitter': {\n",
    "        'type': 'constant',\n",
    "        'radiance': 1.0,\n",
    "    },\n",
    "    'shape': mesh\n",
    "}\n",
    "\n",
    "scene = mi.load_dict(scene_dict)\n",
    "params = mi.traverse(scene)\n",
    "print(params)\n",
    "print(list(params[\"shape.vertex_color\"])[:9])\n",
    "print(list(params[\"shape.vertex_normals\"])[:9])\n"
   ]
  },
  {
   "cell_type": "code",
   "execution_count": null,
   "metadata": {},
   "outputs": [],
   "source": [
    "def plot_images(images):\n",
    "    images_count = len(images)\n",
    "    fig, axs = plt.subplots(1, images_count, figsize=(images_count*5, 5))\n",
    "    if images_count == 1:\n",
    "        axs.imshow(mi.util.convert_to_bitmap(images[i]))\n",
    "        axs.axis('off')\n",
    "    else:\n",
    "        for i in range(images_count):\n",
    "            axs[i].imshow(mi.util.convert_to_bitmap(images[i]))\n",
    "            axs[i].axis('off')\n"
   ]
  },
  {
   "cell_type": "code",
   "execution_count": null,
   "metadata": {},
   "outputs": [],
   "source": [
    "ref_images_all = []\n",
    "for i in range(1, 5):\n",
    "    ref_image = mi.Bitmap(f\"./refs/HandsomeDan{i}_400px.png\")\n",
    "    ref_image = ref_image.convert(\n",
    "        pixel_format=mi.Bitmap.PixelFormat.RGB,\n",
    "        component_format=mi.Struct.Type.Float32,\n",
    "        srgb_gamma=False,\n",
    "    )\n",
    "    ref_images_all.append(ref_image)\n",
    "\n",
    "ref_images = []\n",
    "for i in active_indices:\n",
    "    ref_images.append(ref_images_all[i])\n",
    "\n",
    "plot_images(ref_images)\n"
   ]
  },
  {
   "cell_type": "code",
   "execution_count": null,
   "metadata": {},
   "outputs": [],
   "source": [
    "init_imgs = [mi.render(scene, sensor=sensors[i], spp=128) for i in range(sensor_count)]\n",
    "plot_images(init_imgs)"
   ]
  },
  {
   "cell_type": "code",
   "execution_count": null,
   "metadata": {},
   "outputs": [],
   "source": [
    "lambda_ = 25\n",
    "ls = mi.ad.LargeSteps(params['shape.vertex_positions'], params['shape.faces'], lambda_)"
   ]
  },
  {
   "cell_type": "code",
   "execution_count": null,
   "metadata": {},
   "outputs": [],
   "source": [
    "lr = 1e-1\n",
    "opt = mi.ad.Adam(lr=lr, uniform=True)"
   ]
  },
  {
   "cell_type": "code",
   "execution_count": null,
   "metadata": {},
   "outputs": [],
   "source": [
    "opt['shape.vertex_positions'] = ls.to_differential(params['shape.vertex_positions'])\n",
    "opt['shape.vertex_color'] = params['shape.vertex_color']"
   ]
  },
  {
   "cell_type": "code",
   "execution_count": null,
   "metadata": {},
   "outputs": [],
   "source": [
    "iterations = 100\n",
    "loss_vec = []\n",
    "for it in range(iterations):\n",
    "    total_loss = mi.Float(0.0)\n",
    "\n",
    "    for sensor_idx in range(sensor_count):\n",
    "        params['shape.vertex_positions'] = ls.from_differential(opt['shape.vertex_positions'])\n",
    "        params['shape.vertex_color'] = opt['shape.vertex_color']\n",
    "        params.update()\n",
    "\n",
    "        img = mi.render(scene, params, sensor=sensors[sensor_idx], seed=it)\n",
    "\n",
    "        # L1 Loss\n",
    "        loss = dr.mean(dr.abs(img - ref_images[sensor_idx]))\n",
    "\n",
    "        dr.backward(loss)\n",
    "        opt.step()\n",
    "        params.update(opt)\n",
    "\n",
    "        total_loss += loss\n",
    "\n",
    "    loss_vec.append(total_loss)\n",
    "    print(f\"Iter: {1+it:03d}; Loss: {total_loss[0]}\")"
   ]
  },
  {
   "cell_type": "code",
   "execution_count": null,
   "metadata": {},
   "outputs": [],
   "source": [
    "plt.plot(loss_vec) # somehow doesn't work if loss_vec.append(total_loss[0])\n",
    "plt.show()\n"
   ]
  },
  {
   "cell_type": "code",
   "execution_count": null,
   "metadata": {},
   "outputs": [],
   "source": [
    "params['shape.vertex_positions'] = ls.from_differential(opt['shape.vertex_positions'])\n",
    "params['shape.vertex_color'] = opt['shape.vertex_color']\n",
    "params.update()\n",
    "\n",
    "print(list(params[\"shape.vertex_normals\"])[:9])\n"
   ]
  },
  {
   "cell_type": "code",
   "execution_count": null,
   "metadata": {},
   "outputs": [],
   "source": [
    "final_imgs = [mi.render(scene, sensor=sensors[i], spp=128) for i in range(sensor_count)]\n",
    "plot_images(final_imgs)\n"
   ]
  },
  {
   "cell_type": "code",
   "execution_count": null,
   "metadata": {},
   "outputs": [],
   "source": [
    "mesh.write_ply(f\"./outputs/HandsomeDan_Optimized_lr{str(lr)}.ply\")\n"
   ]
  }
 ],
 "metadata": {
  "kernelspec": {
   "display_name": "base",
   "language": "python",
   "name": "python3"
  },
  "language_info": {
   "codemirror_mode": {
    "name": "ipython",
    "version": 3
   },
   "file_extension": ".py",
   "mimetype": "text/x-python",
   "name": "python",
   "nbconvert_exporter": "python",
   "pygments_lexer": "ipython3",
   "version": "3.11.4"
  }
 },
 "nbformat": 4,
 "nbformat_minor": 2
}
